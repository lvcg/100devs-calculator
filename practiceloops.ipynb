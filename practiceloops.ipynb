{
  "nbformat": 4,
  "nbformat_minor": 0,
  "metadata": {
    "colab": {
      "provenance": [],
      "authorship_tag": "ABX9TyOqBNzwtS0XCWkriMYWNkqr",
      "include_colab_link": true
    },
    "kernelspec": {
      "name": "python3",
      "display_name": "Python 3"
    },
    "language_info": {
      "name": "python"
    }
  },
  "cells": [
    {
      "cell_type": "markdown",
      "metadata": {
        "id": "view-in-github",
        "colab_type": "text"
      },
      "source": [
        "<a href=\"https://colab.research.google.com/github/lvcg/100devs-calculator/blob/main/practiceloops.ipynb\" target=\"_parent\"><img src=\"https://colab.research.google.com/assets/colab-badge.svg\" alt=\"Open In Colab\"/></a>"
      ]
    },
    {
      "cell_type": "code",
      "execution_count": null,
      "metadata": {
        "id": "1plodX6I8tfL"
      },
      "outputs": [],
      "source": [
        "# while loops with known numbers of iterations \n",
        "\n",
        "control = 0 \n",
        "\n",
        "# while loop will repeat 3 times \n",
        "while control < 3:\n",
        "  print('Game due at midnite', control)\n",
        "  control += 1"
      ]
    },
    {
      "cell_type": "code",
      "source": [
        "#while loops with unknown iterations \n",
        "\n",
        "while True:\n",
        "  # loop will exit when i press 0 \n",
        "  conversation = int(input('Department # to speak with. Press 0 to exit'))\n",
        "  if conversation == 0:\n",
        "    print('Have a nice day')\n",
        "    break\n",
        "  else:\n",
        "    print('Hold on')"
      ],
      "metadata": {
        "colab": {
          "base_uri": "https://localhost:8080/"
        },
        "id": "oxC7Eblg-ctf",
        "outputId": "22a8f31c-9fe3-4119-810a-199b0d1c2ebd"
      },
      "execution_count": 5,
      "outputs": [
        {
          "output_type": "stream",
          "name": "stdout",
          "text": [
            "Department # to speak with. Press 0 to exit7\n",
            "Hold on\n",
            "Department # to speak with. Press 0 to exit0\n",
            "Have a nice day\n"
          ]
        }
      ]
    },
    {
      "cell_type": "code",
      "source": [
        "#for loops \n"
      ],
      "metadata": {
        "id": "a95PBE3EBAw9"
      },
      "execution_count": null,
      "outputs": []
    }
  ]
}